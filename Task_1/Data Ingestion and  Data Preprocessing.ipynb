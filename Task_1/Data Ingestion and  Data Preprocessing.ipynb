{
 "cells": [
  {
   "cell_type": "code",
   "execution_count": 1,
   "metadata": {},
   "outputs": [],
   "source": [
    "import os\n",
    "import csv\n",
    "import logging\n",
    "from telegram import Update\n",
    "from telegram.ext import Application, CommandHandler, MessageHandler, CallbackContext, filters"
   ]
  },
  {
   "cell_type": "code",
   "execution_count": 2,
   "metadata": {},
   "outputs": [],
   "source": [
    "# Set up logging\n",
    "logging.basicConfig(format='%(asctime)s - %(name)s - %(levelname)s - %(message)s', level=logging.INFO)\n",
    "logger = logging.getLogger(__name__)"
   ]
  },
  {
   "cell_type": "code",
   "execution_count": 3,
   "metadata": {},
   "outputs": [],
   "source": [
    "# Create a directory for photos if it doesn't exist\n",
    "if not os.path.exists('photos'):\n",
    "    os.makedirs('photos')"
   ]
  },
  {
   "cell_type": "code",
   "execution_count": 5,
   "metadata": {},
   "outputs": [],
   "source": [
    "# Define a function to handle incoming messages\n",
    "async def handle_message(update: Update, context: CallbackContext) -> None:\n",
    "    channel_title = update.effective_chat.title or update.effective_chat.username\n",
    "    channel_username = update.effective_chat.username\n",
    "    message_id = update.message.message_id\n",
    "    sender = update.message.from_user.username\n",
    "    timestamp = update.message.date.isoformat()\n",
    "    \n",
    "    # Initialize content structure\n",
    "    message_content = update.message.text if update.message.text else \"\"\n",
    "    media_paths = []\n",
    "\n",
    "    # Check for images\n",
    "    if update.message.photo:\n",
    "        for photo in update.message.photo:\n",
    "            file_id = photo.file_id\n",
    "            new_file = await context.bot.get_file(file_id)\n",
    "            image_path = f'photos/{file_id}.jpg'\n",
    "            await new_file.download(image_path)\n",
    "            media_paths.append(image_path)\n",
    "\n",
    "    # Check for documents\n",
    "    if update.message.document:\n",
    "        document_file_id = update.message.document.file_id\n",
    "        document_path = f'photos/{document_file_id}.pdf'\n",
    "        new_doc = await context.bot.get_file(document_file_id)\n",
    "        await new_doc.download(document_path)\n",
    "        media_paths.append(document_path)\n",
    "\n",
    "    # Prepare the structured data\n",
    "    structured_data = {\n",
    "        \"Channel Title\": channel_title,\n",
    "        \"Channel Username\": channel_username,\n",
    "        \"ID\": message_id,\n",
    "        \"Message\": message_content,\n",
    "        \"Date\": timestamp,\n",
    "        \"Media Path\": ', '.join(media_paths)\n",
    "    }\n",
    "\n",
    "    # Append data to CSV file\n",
    "    with open('telegram_data.csv', 'a', newline='', encoding='utf-8') as csvfile:\n",
    "        fieldnames = ['Channel Title', 'Channel Username', 'ID', 'Message', 'Date', 'Media Path']\n",
    "        writer = csv.DictWriter(csvfile, fieldnames=fieldnames)\n",
    "\n",
    "        if csvfile.tell() == 0:\n",
    "            writer.writeheader()\n",
    "\n",
    "        writer.writerow(structured_data)\n",
    "\n",
    "    logger.info(f\"Message from {sender}: {structured_data}\")\n",
    "\n",
    "# Define a function to start the bot\n",
    "async def start(update: Update, _: CallbackContext) -> None:\n",
    "    await update.message.reply_text('Bot started!')\n"
   ]
  },
  {
   "cell_type": "code",
   "execution_count": 6,
   "metadata": {},
   "outputs": [
    {
     "ename": "AttributeError",
     "evalue": "type object 'Document' has no attribute 'data_filter'",
     "output_type": "error",
     "traceback": [
      "\u001b[1;31m---------------------------------------------------------------------------\u001b[0m",
      "\u001b[1;31mAttributeError\u001b[0m                            Traceback (most recent call last)",
      "Cell \u001b[1;32mIn[6], line 13\u001b[0m\n\u001b[0;32m     10\u001b[0m     application\u001b[38;5;241m.\u001b[39mrun_polling()\n\u001b[0;32m     12\u001b[0m \u001b[38;5;28;01mif\u001b[39;00m \u001b[38;5;18m__name__\u001b[39m \u001b[38;5;241m==\u001b[39m \u001b[38;5;124m'\u001b[39m\u001b[38;5;124m__main__\u001b[39m\u001b[38;5;124m'\u001b[39m:\n\u001b[1;32m---> 13\u001b[0m     main()\n",
      "Cell \u001b[1;32mIn[6], line 7\u001b[0m, in \u001b[0;36mmain\u001b[1;34m()\u001b[0m\n\u001b[0;32m      5\u001b[0m \u001b[38;5;66;03m# Register handlers directly with the application\u001b[39;00m\n\u001b[0;32m      6\u001b[0m application\u001b[38;5;241m.\u001b[39madd_handler(CommandHandler(\u001b[38;5;124m\"\u001b[39m\u001b[38;5;124mstart\u001b[39m\u001b[38;5;124m\"\u001b[39m, start))\n\u001b[1;32m----> 7\u001b[0m application\u001b[38;5;241m.\u001b[39madd_handler(MessageHandler(filters\u001b[38;5;241m.\u001b[39mTEXT \u001b[38;5;241m|\u001b[39m filters\u001b[38;5;241m.\u001b[39mPHOTO \u001b[38;5;241m|\u001b[39m filters\u001b[38;5;241m.\u001b[39mDocument, handle_message))\n\u001b[0;32m      9\u001b[0m \u001b[38;5;66;03m# Start the Bot\u001b[39;00m\n\u001b[0;32m     10\u001b[0m application\u001b[38;5;241m.\u001b[39mrun_polling()\n",
      "File \u001b[1;32mc:\\Users\\Abdilala\\anaconda3\\Lib\\site-packages\\telegram\\ext\\filters.py:210\u001b[0m, in \u001b[0;36mBaseFilter.__or__\u001b[1;34m(self, other)\u001b[0m\n\u001b[0;32m    201\u001b[0m \u001b[38;5;28;01mdef\u001b[39;00m \u001b[38;5;21m__or__\u001b[39m(\u001b[38;5;28mself\u001b[39m, other: \u001b[38;5;124m\"\u001b[39m\u001b[38;5;124mBaseFilter\u001b[39m\u001b[38;5;124m\"\u001b[39m) \u001b[38;5;241m-\u001b[39m\u001b[38;5;241m>\u001b[39m \u001b[38;5;124m\"\u001b[39m\u001b[38;5;124mBaseFilter\u001b[39m\u001b[38;5;124m\"\u001b[39m:\n\u001b[0;32m    202\u001b[0m \u001b[38;5;250m    \u001b[39m\u001b[38;5;124;03m\"\"\"Defines `OR` bitwise operator for :class:`BaseFilter` object.\u001b[39;00m\n\u001b[0;32m    203\u001b[0m \u001b[38;5;124;03m    The combined filter accepts an update only if it is accepted by any of the filters.\u001b[39;00m\n\u001b[0;32m    204\u001b[0m \u001b[38;5;124;03m    For example, ``filters.PHOTO | filters.CAPTION`` will only accept messages that contain\u001b[39;00m\n\u001b[1;32m   (...)\u001b[0m\n\u001b[0;32m    208\u001b[0m \u001b[38;5;124;03m       :obj:`BaseFilter`\u001b[39;00m\n\u001b[0;32m    209\u001b[0m \u001b[38;5;124;03m    \"\"\"\u001b[39;00m\n\u001b[1;32m--> 210\u001b[0m     \u001b[38;5;28;01mreturn\u001b[39;00m _MergedFilter(\u001b[38;5;28mself\u001b[39m, or_filter\u001b[38;5;241m=\u001b[39mother)\n",
      "File \u001b[1;32mc:\\Users\\Abdilala\\anaconda3\\Lib\\site-packages\\telegram\\ext\\filters.py:427\u001b[0m, in \u001b[0;36m_MergedFilter.__init__\u001b[1;34m(self, base_filter, and_filter, or_filter)\u001b[0m\n\u001b[0;32m    425\u001b[0m     \u001b[38;5;28mself\u001b[39m\u001b[38;5;241m.\u001b[39mdata_filter \u001b[38;5;241m=\u001b[39m \u001b[38;5;28;01mTrue\u001b[39;00m\n\u001b[0;32m    426\u001b[0m \u001b[38;5;28mself\u001b[39m\u001b[38;5;241m.\u001b[39mor_filter \u001b[38;5;241m=\u001b[39m or_filter\n\u001b[1;32m--> 427\u001b[0m \u001b[38;5;28;01mif\u001b[39;00m \u001b[38;5;28mself\u001b[39m\u001b[38;5;241m.\u001b[39mor_filter \u001b[38;5;129;01mand\u001b[39;00m \u001b[38;5;129;01mnot\u001b[39;00m \u001b[38;5;28misinstance\u001b[39m(\u001b[38;5;28mself\u001b[39m\u001b[38;5;241m.\u001b[39mand_filter, \u001b[38;5;28mbool\u001b[39m) \u001b[38;5;129;01mand\u001b[39;00m \u001b[38;5;28mself\u001b[39m\u001b[38;5;241m.\u001b[39mor_filter\u001b[38;5;241m.\u001b[39mdata_filter:\n\u001b[0;32m    428\u001b[0m     \u001b[38;5;28mself\u001b[39m\u001b[38;5;241m.\u001b[39mdata_filter \u001b[38;5;241m=\u001b[39m \u001b[38;5;28;01mTrue\u001b[39;00m\n",
      "\u001b[1;31mAttributeError\u001b[0m: type object 'Document' has no attribute 'data_filter'"
     ]
    }
   ],
   "source": [
    "def main():\n",
    "    # Replace 'YOUR_TOKEN' with your Telegram Bot API token\n",
    "    application = Application.builder().token(\"29294185:aab7ac1b04800f8cacd9bb582779349e\").build()\n",
    "    \n",
    "    # Register handlers directly with the application\n",
    "    application.add_handler(CommandHandler(\"start\", start))\n",
    "    application.add_handler(MessageHandler(filters.TEXT | filters.PHOTO | filters.Document, handle_message))\n",
    "\n",
    "    # Start the Bot\n",
    "    application.run_polling()\n",
    "\n",
    "if __name__ == '__main__':\n",
    "    main()"
   ]
  }
 ],
 "metadata": {
  "kernelspec": {
   "display_name": "base",
   "language": "python",
   "name": "python3"
  },
  "language_info": {
   "codemirror_mode": {
    "name": "ipython",
    "version": 3
   },
   "file_extension": ".py",
   "mimetype": "text/x-python",
   "name": "python",
   "nbconvert_exporter": "python",
   "pygments_lexer": "ipython3",
   "version": "3.11.7"
  }
 },
 "nbformat": 4,
 "nbformat_minor": 2
}
