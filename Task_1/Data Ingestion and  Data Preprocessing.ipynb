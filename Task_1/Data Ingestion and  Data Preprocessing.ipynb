{
 "cells": [
  {
   "cell_type": "code",
   "execution_count": 30,
   "metadata": {},
   "outputs": [],
   "source": [
    "import os\n",
    "import csv\n",
    "import logging\n",
    "from telegram import Update\n",
    "from telegram.ext import Application, CommandHandler, MessageHandler, CallbackContext, filters"
   ]
  },
  {
   "cell_type": "code",
   "execution_count": 31,
   "metadata": {},
   "outputs": [],
   "source": [
    "# Set up logging\n",
    "logging.basicConfig(format='%(asctime)s - %(name)s - %(levelname)s - %(message)s', level=logging.INFO)\n",
    "logger = logging.getLogger(__name__)"
   ]
  },
  {
   "cell_type": "code",
   "execution_count": 32,
   "metadata": {},
   "outputs": [],
   "source": [
    "# Create a directory for photos if it doesn't exist\n",
    "if not os.path.exists('photos'):\n",
    "    os.makedirs('photos')"
   ]
  },
  {
   "cell_type": "code",
   "execution_count": 34,
   "metadata": {},
   "outputs": [],
   "source": [
    "# Define a function to handle incoming messages\n",
    "async def handle_message(update: Update, context: CallbackContext) -> None:\n",
    "    channel_title = update.effective_chat.title or update.effective_chat.username\n",
    "    channel_username = update.effective_chat.username\n",
    "    message_id = update.message.message_id\n",
    "    sender = update.message.from_user.username\n",
    "    timestamp = update.message.date.isoformat()\n",
    "    \n",
    "    # Initialize content structure\n",
    "    message_content = update.message.text if update.message.text else \"\"\n",
    "    media_paths = []\n",
    "\n",
    "    # Check for images\n",
    "    if update.message.photo:\n",
    "        for photo in update.message.photo:\n",
    "            file_id = photo.file_id\n",
    "            new_file = await context.bot.get_file(file_id)\n",
    "            image_path = f'photos/{file_id}.jpg'\n",
    "            await new_file.download(image_path)\n",
    "            media_paths.append(image_path)\n",
    "\n",
    "    # Check for documents\n",
    "    if update.message.document:\n",
    "        document_file_id = update.message.document.file_id\n",
    "        document_path = f'photos/{document_file_id}.pdf'\n",
    "        new_doc = await context.bot.get_file(document_file_id)\n",
    "        await new_doc.download(document_path)\n",
    "        media_paths.append(document_path)\n",
    "\n",
    "    # Prepare the structured data\n",
    "    structured_data = {\n",
    "        \"Channel Title\": channel_title,\n",
    "        \"Channel Username\": channel_username,\n",
    "        \"ID\": message_id,\n",
    "        \"Message\": message_content,\n",
    "        \"Date\": timestamp,\n",
    "        \"Media Path\": ', '.join(media_paths)\n",
    "    }\n",
    "\n",
    "    # Append data to CSV file\n",
    "    with open('telegram_data.csv', 'a', newline='', encoding='utf-8') as csvfile:\n",
    "        fieldnames = ['Channel Title', 'Channel Username', 'ID', 'Message', 'Date', 'Media Path']\n",
    "        writer = csv.DictWriter(csvfile, fieldnames=fieldnames)\n",
    "\n",
    "        if csvfile.tell() == 0:\n",
    "            writer.writeheader()\n",
    "\n",
    "        writer.writerow(structured_data)\n",
    "\n",
    "    logger.info(f\"Message from {sender}: {structured_data}\")\n",
    "\n",
    "# Define a function to start the bot\n",
    "async def start(update: Update, _: CallbackContext) -> None:\n",
    "    await update.message.reply_text('Bot started!')\n"
   ]
  },
  {
   "cell_type": "code",
   "execution_count": null,
   "metadata": {},
   "outputs": [],
   "source": [
    "def main():\n",
    "    # Replace 'YOUR_TOKEN' with your Telegram Bot API token\n",
    "    application = Application.builder().token(\"29294185:aab7ac1b04800f8cacd9bb582779349e\").build()\n",
    "    \n",
    "    # Register handlers directly with the application\n",
    "    application.add_handler(CommandHandler(\"start\", start))\n",
    "    application.add_handler(MessageHandler(filters.TEXT | filters.PHOTO | filters.Document, handle_message))\n",
    "\n",
    "    # Start the Bot\n",
    "    application.run_polling()\n",
    "\n",
    "if __name__ == '__main__':\n",
    "    main()"
   ]
  }
 ],
 "metadata": {
  "kernelspec": {
   "display_name": "base",
   "language": "python",
   "name": "python3"
  },
  "language_info": {
   "codemirror_mode": {
    "name": "ipython",
    "version": 3
   },
   "file_extension": ".py",
   "mimetype": "text/x-python",
   "name": "python",
   "nbconvert_exporter": "python",
   "pygments_lexer": "ipython3",
   "version": "3.11.7"
  }
 },
 "nbformat": 4,
 "nbformat_minor": 2
}
